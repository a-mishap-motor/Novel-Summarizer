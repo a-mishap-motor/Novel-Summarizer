{
 "cells": [
  {
   "cell_type": "markdown",
   "metadata": {},
   "source": [
    "# Novel Summarizer\n",
    "\n",
    "#### Team: Soham Sengupta (16BLC1001), Rishab Agarwal (16BLC1130), Phillip Jebakumar (16BLC1043)\n",
    "\n",
    "#### **Overview**\n",
    "\n",
    "The project aims to summarize any variable-length body of text, such as novels, by deciding how much to keep and how much to leave out. That is, it *predicts* the ratio of the summary's sentence count to the original article's sentence count, using the original wordcounts. Armed with this 'recommended ratio', it goes on to use the gensim summarizer to generate the summary."
   ]
  },
  {
   "cell_type": "code",
   "execution_count": 1,
   "metadata": {},
   "outputs": [
    {
     "name": "stderr",
     "output_type": "stream",
     "text": [
      "C:\\Users\\Soham\\Anaconda3\\envs\\NLP\\lib\\site-packages\\gensim\\utils.py:1197: UserWarning: detected Windows; aliasing chunkize to chunkize_serial\n",
      "  warnings.warn(\"detected Windows; aliasing chunkize to chunkize_serial\")\n"
     ]
    }
   ],
   "source": [
    "from sklearn.metrics import mean_squared_error, r2_score\n",
    "from gensim.summarization.summarizer import summarize\n",
    "from scipy.interpolate import LSQUnivariateSpline\n",
    "from nltk.tokenize import sent_tokenize\n",
    "import statsmodels.formula.api as smf\n",
    "from sklearn import linear_model\n",
    "import matplotlib.pyplot as plt\n",
    "import statsmodels.api as sm\n",
    "from patsy import dmatrix\n",
    "import numpy as np\n",
    "import errno\n",
    "import glob\n",
    "import os\n",
    "articles_folder = 'C:/Users/Soham/OneDrive/TinkrCornr/NovelSummarizer/articles/*.*'\n",
    "summaries_folder = 'C:/Users/Soham/OneDrive/TinkrCornr/NovelSummarizer/summarized/*.*'\n",
    "article_file_paths = glob.glob(articles_folder)\n",
    "summary_file_paths = glob.glob(summaries_folder)\n",
    "#% matplotlib inline"
   ]
  },
  {
   "cell_type": "markdown",
   "metadata": {},
   "source": [
    "\n",
    "#### This is the data accumulation and training phase of the project\n"
   ]
  },
  {
   "cell_type": "code",
   "execution_count": 2,
   "metadata": {},
   "outputs": [
    {
     "name": "stdout",
     "output_type": "stream",
     "text": [
      "Article word counts:  [180, 284, 303, 410, 435, 532, 611, 667, 766, 813, 893, 912, 1089, 1098, 1367]\n"
     ]
    }
   ],
   "source": [
    "#wordcounts of articles\n",
    "article_wc_list = []\n",
    "for path in article_file_paths:\n",
    "    words_in_file = 0\n",
    "    with open(path, 'r') as f:\n",
    "        for line in f:\n",
    "            words = line.split()\n",
    "            words_in_file += len(words)\n",
    "    article_wc_list.append(words_in_file)\n",
    "print(\"Article word counts: \",sorted(article_wc_list))"
   ]
  },
  {
   "cell_type": "code",
   "execution_count": 3,
   "metadata": {},
   "outputs": [
    {
     "name": "stdout",
     "output_type": "stream",
     "text": [
      "Summary word counts:  [29, 42, 37, 49, 37, 51, 33, 47, 62, 56, 43, 43, 40, 46, 41]\n"
     ]
    }
   ],
   "source": [
    "#wordcounts of summaries\n",
    "summary_wc_list = []\n",
    "for path in summary_file_paths:\n",
    "    words_in_file = 0\n",
    "    with open(path, 'r') as f:\n",
    "        for line in f:\n",
    "            words = line.split()\n",
    "            words_in_file += len(words)\n",
    "    summary_wc_list.append(words_in_file)\n",
    "print(\"Summary word counts: \",summary_wc_list)"
   ]
  },
  {
   "cell_type": "code",
   "execution_count": 4,
   "metadata": {},
   "outputs": [
    {
     "name": "stdout",
     "output_type": "stream",
     "text": [
      "\n",
      "Summary sc's:  [2, 4, 3, 4, 3, 4, 3, 4, 4, 4, 4, 4, 3, 4, 3]\n",
      "\n",
      "Article sc's:  [19, 20, 54, 10, 46, 66, 31, 41, 28, 103, 15, 32, 94, 41, 40]\n",
      "\n",
      "Sentence Count Ratios:  [0.105, 0.2, 0.056, 0.4, 0.065, 0.061, 0.097, 0.098, 0.143, 0.039, 0.267, 0.125, 0.032, 0.098, 0.075]\n"
     ]
    }
   ],
   "source": [
    "#sentence ratios\n",
    "article_sc_list = []\n",
    "summary_sc_list = []\n",
    "for path in article_file_paths:\n",
    "    sentences_in_file = 0\n",
    "    with open(path, 'r') as f:\n",
    "        file_text=f.read().replace('\\n', '. ')\n",
    "        sentences = sent_tokenize(file_text)\n",
    "        sentences_in_file += len(sentences)\n",
    "    article_sc_list.append(sentences_in_file)\n",
    "    \n",
    "for path in summary_file_paths:\n",
    "    sentences_in_file = 0\n",
    "    with open(path, 'r') as f:\n",
    "        file_text=f.read().replace('\\n', '. ')\n",
    "        sentences = sent_tokenize(file_text)\n",
    "        sentences_in_file += len(sentences)\n",
    "    summary_sc_list.append(sentences_in_file)\n",
    "\n",
    "sc_ratios = []\n",
    "for i in range(0, len(article_sc_list)):\n",
    "    sc_ratios.append(summary_sc_list[i]/article_sc_list[i])\n",
    "\n",
    "print(\"\\nSummary sc's: \",summary_sc_list)\n",
    "print(\"\\nArticle sc's: \",article_sc_list)\n",
    "\n",
    "sc_ratios = [round(i,3) for i in sc_ratios]\n",
    "print(\"\\nSentence Count Ratios: \",sc_ratios)"
   ]
  },
  {
   "cell_type": "markdown",
   "metadata": {},
   "source": [
    "### Model 1: Polynomial Regression\n",
    "####  \n",
    "#### We now train this model to predict the ratios from the article wordcounts."
   ]
  },
  {
   "cell_type": "code",
   "execution_count": 21,
   "metadata": {},
   "outputs": [],
   "source": [
    "# Train and Test data for regression\n",
    "\n",
    "X_data = np.array(article_wc_list)\n",
    "y_targets = sc_ratios\n",
    "\n",
    "#Specify no. of test data points\n",
    "tp = 5\n",
    "\n",
    "# Split the data into training/testing sets\n",
    "X_train = np.array(X_data[:-tp])\n",
    "X_test = np.array(X_data[-tp:])\n",
    "\n",
    "# Split the targets into training/testing sets\n",
    "y_train = np.array(y_targets[:-tp])\n",
    "y_test = np.array(y_targets[-tp:])"
   ]
  },
  {
   "cell_type": "code",
   "execution_count": 22,
   "metadata": {},
   "outputs": [
    {
     "data": {
      "image/png": "[encoded data removed]",
      "text/plain": [
       "<Figure size 432x288 with 1 Axes>"
      ]
     },
     "metadata": {},
     "output_type": "display_data"
    }
   ],
   "source": [
    "########### Polynomial Regression ###########\n",
    "\n",
    "# Generating weights for polynomial function with degree 1\n",
    "weights = np.polyfit(X_train, y_train, 1)\n",
    "\n",
    "# Generating model with the given weights\n",
    "model = np.poly1d(weights)\n",
    "\n",
    "# Prediction on test data\n",
    "y_pred = model(X_test)\n",
    "\n",
    "# Plotting the regression curve\n",
    "xp = np.linspace(X_test.min(),X_test.max(),10)\n",
    "pred_plot = model(xp)\n",
    "plt.scatter(X_test, y_test, facecolor='None', edgecolor='k', alpha=0.3)\n",
    "plt.plot(xp, pred_plot)\n",
    "plt.show()"
   ]
  },
  {
   "cell_type": "code",
   "execution_count": 23,
   "metadata": {},
   "outputs": [
    {
     "name": "stdout",
     "output_type": "stream",
     "text": [
      "Mean squared error:  0.00209693260883\n",
      "Variance score (R^2): 0.67\n"
     ]
    }
   ],
   "source": [
    "# Metrics\n",
    "\n",
    "print(\"Mean squared error: \", mean_squared_error(y_test, y_pred))\n",
    "# Explained variance score: 1 is perfect prediction\n",
    "print('Variance score (R^2): %.2f' % r2_score(y_test, y_pred))"
   ]
  },
  {
   "cell_type": "markdown",
   "metadata": {},
   "source": [
    "#### Our model is now ready, and we can use it to get our summaries"
   ]
  },
  {
   "cell_type": "code",
   "execution_count": 13,
   "metadata": {},
   "outputs": [
    {
     "name": "stdout",
     "output_type": "stream",
     "text": [
      "Wordcounts:  1564\n",
      "Recommended Ratio:  0.2\n",
      "\n",
      "Summary: \n",
      " ['The institute said health officers would board the ship in Houston to investigate the gastrointestinal illness, which is causing vomiting and diarrhea.', \"Nearly 700 crew and passengers fell ill aboard the Royal Caribbean's Explorer of the Seas, the highest number of sick people reported on any cruise ship in two decades, CDC data show.\", 'To compare the cruises, 5.22% of passengers on the Caribbean Princess reported being ill, versus 20.5% on the Explorer of the Seas.']\n"
     ]
    }
   ],
   "source": [
    "#use the model to predict a summarization ratio to an input file\n",
    "#path = input(\"Enter an article path: \") \n",
    "path = \"C:/article.txt\"\n",
    "wc = 0\n",
    "with open(path, 'r') as f:\n",
    "    text = f.read()\n",
    "    for line in text:\n",
    "        words = line.split()\n",
    "        wc += len(words)\n",
    "print(\"Wordcounts: \",wc)\n",
    "recommended_ratio = (model(1400))\n",
    "recommended_ratio = 0.2 if (recommended_ratio<0) else recommended_ratio\n",
    "print(\"Recommended Ratio: \",recommended_ratio)\n",
    "\n",
    "print(\"\\nSummary: \\n\",summarize(text, ratio=recommended_ratio, split=True))\n",
    "\n",
    "#with open(\"system_summaries/system_summary.001.txt\",\"+w\") as f:\n",
    "#    print(\"{}\".format(summarize(text, ratio=recommended_ratio, split=True)),file = f)"
   ]
  },
  {
   "cell_type": "markdown",
   "metadata": {},
   "source": [
    "### Model 2: Natural Cubic Spline\n",
    "####  \n",
    "#### We now train this model to predict the ratios from the article wordcounts."
   ]
  },
  {
   "cell_type": "code",
   "execution_count": 26,
   "metadata": {},
   "outputs": [
    {
     "name": "stdout",
     "output_type": "stream",
     "text": [
      "[ 410  303  893  180 1089  912  667  813  532 1367]\n",
      "[ 0.105  0.2    0.056  0.4    0.065  0.061  0.097  0.098  0.143  0.039]\n"
     ]
    },
    {
     "ename": "ValueError",
     "evalue": "x must be strictly increasing",
     "output_type": "error",
     "traceback": [
      "\u001b[1;31m---------------------------------------------------------------------------\u001b[0m",
      "\u001b[1;31mValueError\u001b[0m                                Traceback (most recent call last)",
      "\u001b[1;32m<ipython-input-26-324c426363a9>\u001b[0m in \u001b[0;36m<module>\u001b[1;34m()\u001b[0m\n\u001b[0;32m      4\u001b[0m \u001b[0mprint\u001b[0m\u001b[1;33m(\u001b[0m\u001b[0my_train\u001b[0m\u001b[1;33m)\u001b[0m\u001b[1;33m\u001b[0m\u001b[0m\n\u001b[0;32m      5\u001b[0m \u001b[1;31m# Fit a LSQunivariate spline\u001b[0m\u001b[1;33m\u001b[0m\u001b[1;33m\u001b[0m\u001b[0m\n\u001b[1;32m----> 6\u001b[1;33m \u001b[0ms\u001b[0m \u001b[1;33m=\u001b[0m \u001b[0mLSQUnivariateSpline\u001b[0m\u001b[1;33m(\u001b[0m\u001b[1;33m(\u001b[0m\u001b[0mX_train\u001b[0m\u001b[1;33m)\u001b[0m\u001b[1;33m,\u001b[0m\u001b[1;33m(\u001b[0m\u001b[0my_train\u001b[0m\u001b[1;33m)\u001b[0m\u001b[1;33m,\u001b[0m\u001b[0mknots\u001b[0m\u001b[1;33m)\u001b[0m\u001b[1;33m\u001b[0m\u001b[0m\n\u001b[0m\u001b[0;32m      7\u001b[0m \u001b[1;33m\u001b[0m\u001b[0m\n\u001b[0;32m      8\u001b[0m \u001b[1;31m#Plot the spline\u001b[0m\u001b[1;33m\u001b[0m\u001b[1;33m\u001b[0m\u001b[0m\n",
      "\u001b[1;32m~\\Anaconda3\\envs\\NLP\\lib\\site-packages\\scipy\\interpolate\\fitpack2.py\u001b[0m in \u001b[0;36m__init__\u001b[1;34m(self, x, y, t, w, bbox, k, ext, check_finite)\u001b[0m\n\u001b[0;32m    736\u001b[0m                 \u001b[1;32mraise\u001b[0m \u001b[0mValueError\u001b[0m\u001b[1;33m(\u001b[0m\u001b[1;34m\"Input(s) must not contain NaNs or infs.\"\u001b[0m\u001b[1;33m)\u001b[0m\u001b[1;33m\u001b[0m\u001b[0m\n\u001b[0;32m    737\u001b[0m         \u001b[1;32mif\u001b[0m \u001b[1;32mnot\u001b[0m \u001b[0mall\u001b[0m\u001b[1;33m(\u001b[0m\u001b[0mdiff\u001b[0m\u001b[1;33m(\u001b[0m\u001b[0mx\u001b[0m\u001b[1;33m)\u001b[0m \u001b[1;33m>\u001b[0m \u001b[1;36m0.0\u001b[0m\u001b[1;33m)\u001b[0m\u001b[1;33m:\u001b[0m\u001b[1;33m\u001b[0m\u001b[0m\n\u001b[1;32m--> 738\u001b[1;33m             \u001b[1;32mraise\u001b[0m \u001b[0mValueError\u001b[0m\u001b[1;33m(\u001b[0m\u001b[1;34m'x must be strictly increasing'\u001b[0m\u001b[1;33m)\u001b[0m\u001b[1;33m\u001b[0m\u001b[0m\n\u001b[0m\u001b[0;32m    739\u001b[0m \u001b[1;33m\u001b[0m\u001b[0m\n\u001b[0;32m    740\u001b[0m         \u001b[1;31m# _data == x,y,w,xb,xe,k,s,n,t,c,fp,fpint,nrdata,ier\u001b[0m\u001b[1;33m\u001b[0m\u001b[1;33m\u001b[0m\u001b[0m\n",
      "\u001b[1;31mValueError\u001b[0m: x must be strictly increasing"
     ]
    }
   ],
   "source": [
    "# Set the knots manually\n",
    "knots=[450,850]\n",
    "print(X_train)\n",
    "print(y_train)\n",
    "# Fit a LSQunivariate spline\n",
    "s = LSQUnivariateSpline((X_train),(y_train),knots)\n",
    "\n",
    "#Plot the spline\n",
    "xs = np.linspace(40,2000,10)\n",
    "ys = s(xs)\n",
    "plt.scatter(X_train, y_train)\n",
    "plt.plot(xs, ys)\n",
    "plt.savefig('fig2.png', bbox_inches='tight')"
   ]
  },
  {
   "cell_type": "code",
   "execution_count": 48,
   "metadata": {},
   "outputs": [
    {
     "name": "stdout",
     "output_type": "stream",
     "text": [
      "[ 410  303  893  180 1089  912  667  813  532 1367  284  435 1098  611  766]\n",
      "[0.105, 0.2, 0.056, 0.4, 0.065, 0.061, 0.097, 0.098, 0.143, 0.039, 0.267, 0.125, 0.032, 0.098, 0.075]\n"
     ]
    },
    {
     "ename": "ValueError",
     "evalue": "shapes (15,6) and (7,) not aligned: 6 (dim 1) != 7 (dim 0)",
     "output_type": "error",
     "traceback": [
      "\u001b[1;31m---------------------------------------------------------------------------\u001b[0m",
      "\u001b[1;31mValueError\u001b[0m                                Traceback (most recent call last)",
      "\u001b[1;32m<ipython-input-48-18d46f0623d4>\u001b[0m in \u001b[0;36m<module>\u001b[1;34m()\u001b[0m\n\u001b[0;32m      9\u001b[0m \u001b[1;31m# Predictions\u001b[0m\u001b[1;33m\u001b[0m\u001b[1;33m\u001b[0m\u001b[0m\n\u001b[0;32m     10\u001b[0m pred1 = fit1.predict(dmatrix(\"bs(X_data, knots=(450,850), include_intercept=False)\", \n\u001b[1;32m---> 11\u001b[1;33m                              {\"X_data\": X_data}, return_type='dataframe'))\n\u001b[0m\u001b[0;32m     12\u001b[0m \u001b[1;33m\u001b[0m\u001b[0m\n\u001b[0;32m     13\u001b[0m \u001b[1;31m# Calculating RMSE values\u001b[0m\u001b[1;33m\u001b[0m\u001b[1;33m\u001b[0m\u001b[0m\n",
      "\u001b[1;32m~\\Anaconda3\\envs\\NLP\\lib\\site-packages\\statsmodels\\base\\model.py\u001b[0m in \u001b[0;36mpredict\u001b[1;34m(self, exog, transform, *args, **kwargs)\u001b[0m\n\u001b[0;32m    852\u001b[0m \u001b[1;33m\u001b[0m\u001b[0m\n\u001b[0;32m    853\u001b[0m         predict_results = self.model.predict(self.params, exog, *args,\n\u001b[1;32m--> 854\u001b[1;33m                                              **kwargs)\n\u001b[0m\u001b[0;32m    855\u001b[0m \u001b[1;33m\u001b[0m\u001b[0m\n\u001b[0;32m    856\u001b[0m         if exog_index is not None and not hasattr(predict_results,\n",
      "\u001b[1;32m~\\Anaconda3\\envs\\NLP\\lib\\site-packages\\statsmodels\\genmod\\generalized_linear_model.py\u001b[0m in \u001b[0;36mpredict\u001b[1;34m(self, params, exog, exposure, offset, linear)\u001b[0m\n\u001b[0;32m    850\u001b[0m             \u001b[0mexog\u001b[0m \u001b[1;33m=\u001b[0m \u001b[0mself\u001b[0m\u001b[1;33m.\u001b[0m\u001b[0mexog\u001b[0m\u001b[1;33m\u001b[0m\u001b[0m\n\u001b[0;32m    851\u001b[0m \u001b[1;33m\u001b[0m\u001b[0m\n\u001b[1;32m--> 852\u001b[1;33m         \u001b[0mlinpred\u001b[0m \u001b[1;33m=\u001b[0m \u001b[0mnp\u001b[0m\u001b[1;33m.\u001b[0m\u001b[0mdot\u001b[0m\u001b[1;33m(\u001b[0m\u001b[0mexog\u001b[0m\u001b[1;33m,\u001b[0m \u001b[0mparams\u001b[0m\u001b[1;33m)\u001b[0m \u001b[1;33m+\u001b[0m \u001b[0moffset\u001b[0m \u001b[1;33m+\u001b[0m \u001b[0mexposure\u001b[0m\u001b[1;33m\u001b[0m\u001b[0m\n\u001b[0m\u001b[0;32m    853\u001b[0m         \u001b[1;32mif\u001b[0m \u001b[0mlinear\u001b[0m\u001b[1;33m:\u001b[0m\u001b[1;33m\u001b[0m\u001b[0m\n\u001b[0;32m    854\u001b[0m             \u001b[1;32mreturn\u001b[0m \u001b[0mlinpred\u001b[0m\u001b[1;33m\u001b[0m\u001b[0m\n",
      "\u001b[1;31mValueError\u001b[0m: shapes (15,6) and (7,) not aligned: 6 (dim 1) != 7 (dim 0)"
     ]
    }
   ],
   "source": [
    "# Generating cubic spline with 2 knots at 450 and 850\n",
    "transformed_X = dmatrix(\"bs(X_data, df=6, degree=1, include_intercept=False)\", \n",
    "                        {\"X_data\": X_data},return_type='dataframe')\n",
    "print(X_data)\n",
    "print(y_targets)\n",
    "# Fitting Generalised linear model on transformed dataset\n",
    "fit1 = sm.GLM(y_targets, transformed_X).fit()\n",
    "\n",
    "# Predictions\n",
    "pred1 = fit1.predict(dmatrix(\"bs(X_data, knots=(450,850), include_intercept=False)\", \n",
    "                             {\"X_data\": X_data}, return_type='dataframe'))\n",
    "\n",
    "# Calculating RMSE values\n",
    "rms1 = sqrt(mean_squared_error(y_targets, pred1))\n",
    "print(rms1)"
   ]
  },
  {
   "cell_type": "code",
   "execution_count": 50,
   "metadata": {},
   "outputs": [
    {
     "ename": "ValueError",
     "evalue": "shapes (15,6) and (7,) not aligned: 6 (dim 1) != 7 (dim 0)",
     "output_type": "error",
     "traceback": [
      "\u001b[1;31m---------------------------------------------------------------------------\u001b[0m",
      "\u001b[1;31mValueError\u001b[0m                                Traceback (most recent call last)",
      "\u001b[1;32m<ipython-input-50-f6102dab21ec>\u001b[0m in \u001b[0;36m<module>\u001b[1;34m()\u001b[0m\n\u001b[0;32m      4\u001b[0m \u001b[1;31m# Make some predictions\u001b[0m\u001b[1;33m\u001b[0m\u001b[1;33m\u001b[0m\u001b[0m\n\u001b[0;32m      5\u001b[0m pred1 = fit1.predict(dmatrix(\"bs(xp, knots=(450,850), include_intercept=False)\", \n\u001b[1;32m----> 6\u001b[1;33m                              {\"xp\": xp}, return_type='dataframe'))\n\u001b[0m\u001b[0;32m      7\u001b[0m \u001b[1;33m\u001b[0m\u001b[0m\n\u001b[0;32m      8\u001b[0m \u001b[1;31m# Plot the splines and error bands\u001b[0m\u001b[1;33m\u001b[0m\u001b[1;33m\u001b[0m\u001b[0m\n",
      "\u001b[1;32m~\\Anaconda3\\envs\\NLP\\lib\\site-packages\\statsmodels\\base\\model.py\u001b[0m in \u001b[0;36mpredict\u001b[1;34m(self, exog, transform, *args, **kwargs)\u001b[0m\n\u001b[0;32m    852\u001b[0m \u001b[1;33m\u001b[0m\u001b[0m\n\u001b[0;32m    853\u001b[0m         predict_results = self.model.predict(self.params, exog, *args,\n\u001b[1;32m--> 854\u001b[1;33m                                              **kwargs)\n\u001b[0m\u001b[0;32m    855\u001b[0m \u001b[1;33m\u001b[0m\u001b[0m\n\u001b[0;32m    856\u001b[0m         if exog_index is not None and not hasattr(predict_results,\n",
      "\u001b[1;32m~\\Anaconda3\\envs\\NLP\\lib\\site-packages\\statsmodels\\genmod\\generalized_linear_model.py\u001b[0m in \u001b[0;36mpredict\u001b[1;34m(self, params, exog, exposure, offset, linear)\u001b[0m\n\u001b[0;32m    850\u001b[0m             \u001b[0mexog\u001b[0m \u001b[1;33m=\u001b[0m \u001b[0mself\u001b[0m\u001b[1;33m.\u001b[0m\u001b[0mexog\u001b[0m\u001b[1;33m\u001b[0m\u001b[0m\n\u001b[0;32m    851\u001b[0m \u001b[1;33m\u001b[0m\u001b[0m\n\u001b[1;32m--> 852\u001b[1;33m         \u001b[0mlinpred\u001b[0m \u001b[1;33m=\u001b[0m \u001b[0mnp\u001b[0m\u001b[1;33m.\u001b[0m\u001b[0mdot\u001b[0m\u001b[1;33m(\u001b[0m\u001b[0mexog\u001b[0m\u001b[1;33m,\u001b[0m \u001b[0mparams\u001b[0m\u001b[1;33m)\u001b[0m \u001b[1;33m+\u001b[0m \u001b[0moffset\u001b[0m \u001b[1;33m+\u001b[0m \u001b[0mexposure\u001b[0m\u001b[1;33m\u001b[0m\u001b[0m\n\u001b[0m\u001b[0;32m    853\u001b[0m         \u001b[1;32mif\u001b[0m \u001b[0mlinear\u001b[0m\u001b[1;33m:\u001b[0m\u001b[1;33m\u001b[0m\u001b[0m\n\u001b[0;32m    854\u001b[0m             \u001b[1;32mreturn\u001b[0m \u001b[0mlinpred\u001b[0m\u001b[1;33m\u001b[0m\u001b[0m\n",
      "\u001b[1;31mValueError\u001b[0m: shapes (15,6) and (7,) not aligned: 6 (dim 1) != 7 (dim 0)"
     ]
    }
   ],
   "source": [
    "# We will plot the graph for 15 observations only\n",
    "xp = np.linspace(X_test.min(),X_test.max(),15)\n",
    "\n",
    "# Make some predictions\n",
    "pred1 = fit1.predict(dmatrix(\"bs(xp, knots=(450,850), include_intercept=False)\", \n",
    "                             {\"xp\": xp}, return_type='dataframe'))\n",
    "\n",
    "# Plot the splines and error bands\n",
    "plt.scatter(X_data, y_targets, facecolor='None', edgecolor='k', alpha=0.1)\n",
    "plt.plot(xp, pred1, label='Specifying degree=3 with 2 knots')\n",
    "plt.legend()\n",
    "#plt.xlim(15,85)\n",
    "#plt.ylim(0,350)\n",
    "plt.xlabel('wordcounts')\n",
    "plt.ylabel('ratios')\n",
    "plt.show()"
   ]
  },
  {
   "cell_type": "markdown",
   "metadata": {},
   "source": [
    "#### Additionally, we calculate some metrics to judge the quality of summarization\n",
    "#### (Based on precision, recall and f-score\n"
   ]
  },
  {
   "cell_type": "code",
   "execution_count": 9,
   "metadata": {},
   "outputs": [
    {
     "name": "stderr",
     "output_type": "stream",
     "text": [
      "2018-10-10 19:14:57,780 [MainThread  ] [INFO ]  Writing summaries.\n",
      "2018-10-10 19:14:57,786 [MainThread  ] [INFO ]  Processing summaries. Saving system files to C:\\Users\\Soham\\AppData\\Local\\Temp\\tmppmobryj2\\system and model files to C:\\Users\\Soham\\AppData\\Local\\Temp\\tmppmobryj2\\model.\n",
      "2018-10-10 19:14:57,788 [MainThread  ] [INFO ]  Processing files in system_summaries.\n",
      "2018-10-10 19:14:57,790 [MainThread  ] [INFO ]  Processing system_summary.001.txt.\n",
      "2018-10-10 19:14:57,794 [MainThread  ] [INFO ]  Saved processed files to C:\\Users\\Soham\\AppData\\Local\\Temp\\tmppmobryj2\\system.\n",
      "2018-10-10 19:14:57,796 [MainThread  ] [INFO ]  Processing files in model_summaries.\n",
      "2018-10-10 19:14:57,799 [MainThread  ] [INFO ]  Processing model_summary.A.001.txt.\n",
      "2018-10-10 19:14:57,802 [MainThread  ] [INFO ]  Saved processed files to C:\\Users\\Soham\\AppData\\Local\\Temp\\tmppmobryj2\\model.\n",
      "2018-10-10 19:14:57,830 [MainThread  ] [INFO ]  Written ROUGE configuration to C:\\Users\\Soham\\AppData\\Local\\Temp\\tmpk5fawfj1\\rouge_conf.xml\n",
      "2018-10-10 19:14:57,834 [MainThread  ] [INFO ]  Running ROUGE with command perl  C:\\Users\\Soham\\PACKAGES\\ROUGE-1.5.5\\ROUGE-1.5.5.pl -e C:\\Users\\Soham\\PACKAGES\\ROUGE-1.5.5\\data -c 95 -2 -1 -U -r 1000 -n 4 -w 1.2 -a -m C:\\Users\\Soham\\AppData\\Local\\Temp\\tmpk5fawfj1\\rouge_conf.xml\n"
     ]
    },
    {
     "name": "stdout",
     "output_type": "stream",
     "text": [
      "---------------------------------------------\n",
      "1 ROUGE-1 Average_R: 0.44828 (95%-conf.int. 0.44828 - 0.44828)\n",
      "1 ROUGE-1 Average_P: 0.23636 (95%-conf.int. 0.23636 - 0.23636)\n",
      "1 ROUGE-1 Average_F: 0.30952 (95%-conf.int. 0.30952 - 0.30952)\n",
      "---------------------------------------------\n",
      "1 ROUGE-2 Average_R: 0.07143 (95%-conf.int. 0.07143 - 0.07143)\n",
      "1 ROUGE-2 Average_P: 0.03704 (95%-conf.int. 0.03704 - 0.03704)\n",
      "1 ROUGE-2 Average_F: 0.04878 (95%-conf.int. 0.04878 - 0.04878)\n",
      "---------------------------------------------\n",
      "1 ROUGE-3 Average_R: 0.03704 (95%-conf.int. 0.03704 - 0.03704)\n",
      "1 ROUGE-3 Average_P: 0.01887 (95%-conf.int. 0.01887 - 0.01887)\n",
      "1 ROUGE-3 Average_F: 0.02500 (95%-conf.int. 0.02500 - 0.02500)\n",
      "---------------------------------------------\n",
      "1 ROUGE-4 Average_R: 0.00000 (95%-conf.int. 0.00000 - 0.00000)\n",
      "1 ROUGE-4 Average_P: 0.00000 (95%-conf.int. 0.00000 - 0.00000)\n",
      "1 ROUGE-4 Average_F: 0.00000 (95%-conf.int. 0.00000 - 0.00000)\n",
      "---------------------------------------------\n",
      "1 ROUGE-L Average_R: 0.27586 (95%-conf.int. 0.27586 - 0.27586)\n",
      "1 ROUGE-L Average_P: 0.14545 (95%-conf.int. 0.14545 - 0.14545)\n",
      "1 ROUGE-L Average_F: 0.19047 (95%-conf.int. 0.19047 - 0.19047)\n",
      "---------------------------------------------\n",
      "1 ROUGE-W-1.2 Average_R: 0.13638 (95%-conf.int. 0.13638 - 0.13638)\n",
      "1 ROUGE-W-1.2 Average_P: 0.11382 (95%-conf.int. 0.11382 - 0.11382)\n",
      "1 ROUGE-W-1.2 Average_F: 0.12408 (95%-conf.int. 0.12408 - 0.12408)\n",
      "---------------------------------------------\n",
      "1 ROUGE-S* Average_R: 0.10099 (95%-conf.int. 0.10099 - 0.10099)\n",
      "1 ROUGE-S* Average_P: 0.02761 (95%-conf.int. 0.02761 - 0.02761)\n",
      "1 ROUGE-S* Average_F: 0.04336 (95%-conf.int. 0.04336 - 0.04336)\n",
      "---------------------------------------------\n",
      "1 ROUGE-SU* Average_R: 0.12212 (95%-conf.int. 0.12212 - 0.12212)\n",
      "1 ROUGE-SU* Average_P: 0.03444 (95%-conf.int. 0.03444 - 0.03444)\n",
      "1 ROUGE-SU* Average_F: 0.05373 (95%-conf.int. 0.05373 - 0.05373)\n",
      "\n"
     ]
    }
   ],
   "source": [
    "#calculate rouge metric\n",
    "from pyrouge import Rouge155\n",
    "r = Rouge155()\n",
    "\n",
    "r.system_dir = 'system_summaries'\n",
    "r.model_dir = 'model_summaries'\n",
    "r.system_filename_pattern = 'system_summary.(\\d+).txt'\n",
    "r.model_filename_pattern = 'model_summary.[A-Z].#ID#.txt'\n",
    "\n",
    "#Rouge155.convert_summaries_to_rouge_format('system_summaries', 'system_summaries')\n",
    "#Rouge155.convert_summaries_to_rouge_format('model_summaries', 'model_summaries')\n",
    "\n",
    "output = r.convert_and_evaluate()\n",
    "print(output)\n",
    "output_dict = r.output_to_dict(output)"
   ]
  },
  {
   "cell_type": "code",
   "execution_count": null,
   "metadata": {},
   "outputs": [],
   "source": []
  }
 ],
 "metadata": {
  "kernelspec": {
   "display_name": "Python 3",
   "language": "python",
   "name": "python3"
  },
  "language_info": {
   "codemirror_mode": {
    "name": "ipython",
    "version": 3
   },
   "file_extension": ".py",
   "mimetype": "text/x-python",
   "name": "python",
   "nbconvert_exporter": "python",
   "pygments_lexer": "ipython3",
   "version": "3.5.5"
  }
 },
 "nbformat": 4,
 "nbformat_minor": 2
}
